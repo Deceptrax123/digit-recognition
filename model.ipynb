{
 "cells": [
  {
   "cell_type": "code",
   "execution_count": 41,
   "metadata": {},
   "outputs": [],
   "source": [
    "import numpy as np\n",
    "import matplotlib.pyplot as plt\n",
    "import tensorflow as tf\n",
    "import keras\n",
    "import csv\n",
    "import json\n",
    "import pandas as pd"
   ]
  },
  {
   "cell_type": "code",
   "execution_count": 60,
   "metadata": {},
   "outputs": [],
   "source": [
    "def normalize(X_train):\n",
    "   newx_train=tf.cast(X_train,tf.float32)/255\n",
    "   \n",
    "   return newx_train\n"
   ]
  },
  {
   "cell_type": "code",
   "execution_count": 71,
   "metadata": {},
   "outputs": [],
   "source": [
    "def initialize_parameters():\n",
    "    hidden_units=[(25,784),(15,25),(10,15)]\n",
    "    parameters=dict()\n",
    "    \n",
    "    layers=len(hidden_units)\n",
    "    \n",
    "    initializer=tf.keras.initializers.HeNormal()\n",
    "    \n",
    "    for i in range(1,layers+1):\n",
    "        parameters[\"W\"+str(i)]=tf.Variable(initializer(shape=(hidden_units[i-1][0],hidden_units[i-1][1]))) \n",
    "        parameters[\"B\"+str(i)]=tf.Variable(initializer(shape=(hidden_units[i-1][0],1)))\n",
    "       \n",
    "    return parameters\n",
    "        "
   ]
  },
  {
   "cell_type": "code",
   "execution_count": 62,
   "metadata": {},
   "outputs": [],
   "source": [
    "def convert_to_one_hot(label,depth=10):\n",
    "    encoded=tf.one_hot(label,depth,axis=0)\n",
    "    transformed_Y=tf.reshape(encoded,[depth,])\n",
    "    \n",
    "    return transformed_Y"
   ]
  },
  {
   "cell_type": "code",
   "execution_count": 63,
   "metadata": {},
   "outputs": [],
   "source": [
    "def forward_propagation(X,parameters):\n",
    "    \n",
    "    layers=len(parameters)//2\n",
    "    activations=dict()\n",
    "    linearOutput=dict()\n",
    "    \n",
    "    activations[\"A0\"]=X\n",
    "    for i in range(1,layers+1):\n",
    "        linearOutput[\"Z\"+str(i)]=tf.add(tf.linalg.matmul(parameters[\"W\"+str(i)],activations[\"A\"+str(i-1)]),parameters[\"B\"+str(i)])\n",
    "        if i!=layers:\n",
    "            activations[\"A\"+str(i)]=tf.keras.activations.relu(linearOutput[\"Z\"+str(i)])\n",
    "        \n",
    "        \n",
    "        \n",
    "    return linearOutput[\"Z\"+str(layers)]"
   ]
  },
  {
   "cell_type": "code",
   "execution_count": 64,
   "metadata": {},
   "outputs": [],
   "source": [
    "def losses(linear,y_labels):\n",
    "    \n",
    "    cost=tf.reduce_mean(tf.keras.losses.categorical_crossentropy(y_labels,linear))\n",
    "    \n",
    "    return cost\n"
   ]
  },
  {
   "cell_type": "code",
   "execution_count": 82,
   "metadata": {},
   "outputs": [],
   "source": [
    "def model(X_train,Y_train,parameters,learning_rate=0.000001,num_epochs=70,minibatch_size=16,print_cost=True):\n",
    "    costs=list()\n",
    "    training_accuracies=list()\n",
    "    \n",
    "   \n",
    "    optimizing_algo=tf.keras.optimizers.Adam(learning_rate)\n",
    "    accuracy=tf.keras.metrics.CategoricalAccuracy()\n",
    "    trainingSet=tf.data.Dataset.zip((X_train,Y_train))\n",
    "    minibatches=trainingSet.batch(minibatch_size).prefetch(8)\n",
    "    \n",
    "    m=trainingSet.cardinality().numpy()\n",
    "    \n",
    "    W1=parameters[\"W1\"]\n",
    "    B1=parameters[\"B1\"]\n",
    "    W2=parameters[\"W2\"]\n",
    "    B2=parameters[\"B2\"]\n",
    "    W3=parameters[\"W3\"]\n",
    "    B3=parameters[\"B3\"]\n",
    "    # W4=parameters[\"W4\"]\n",
    "    # B4=parameters[\"B4\"]\n",
    "    # W5=parameters[\"W5\"]\n",
    "    # B5=parameters[\"B5\"]\n",
    "    # W6=parameters[\"W6\"]\n",
    "    # B6=parameters[\"B6\"]\n",
    "    # W7=parameters[\"W7\"]\n",
    "    # B7=parameters[\"B7\"]\n",
    "    # W8=parameters[\"W8\"]\n",
    "    # B8=parameters[\"B8\"]\n",
    "    \n",
    "    for e in range(1,num_epochs+1):\n",
    "        epochCost=0\n",
    "        accuracy.reset_states()\n",
    "        \n",
    "        for (mini_X,mini_Y) in minibatches:\n",
    "            with tf.GradientTape() as t:\n",
    "                linearOutput=forward_propagation(tf.transpose(mini_X),parameters)\n",
    "                \n",
    "                mini_loss=losses(tf.transpose(linearOutput),mini_Y)\n",
    "            accuracy.update_state(mini_Y,tf.transpose(linearOutput))\n",
    "            \n",
    "            training_parameters=[W1,B1,W2,B2,W3,B3]\n",
    "            gradients=t.gradient(mini_loss,training_parameters)\n",
    "            optimizing_algo.apply_gradients(zip(gradients,training_parameters))\n",
    "            \n",
    "            epochCost+=mini_loss\n",
    "        epochCost/=m\n",
    "        \n",
    "        if print_cost==True and e%10==0:   \n",
    "            print(\"Cost after epoch\",e,\"-\",epochCost)\n",
    "            print(\"Training accuracy - \",accuracy.result())\n",
    "            \n",
    "            costs.append(epochCost)\n",
    "            training_accuracies.append(accuracy.result())\n",
    "    return parameters,costs,training_accuracies"
   ]
  },
  {
   "cell_type": "code",
   "execution_count": 66,
   "metadata": {},
   "outputs": [],
   "source": [
    "\n",
    "#main\n",
    "train_set=pd.read_csv(\"train.csv\")\n",
    "test_set=pd.read_csv(\"test.csv\")"
   ]
  },
  {
   "cell_type": "code",
   "execution_count": 67,
   "metadata": {},
   "outputs": [],
   "source": [
    "x_train=tf.data.Dataset.from_tensor_slices(train_set.drop('label',axis=1))\n",
    "y_train=tf.data.Dataset.from_tensor_slices(train_set['label'])"
   ]
  },
  {
   "cell_type": "code",
   "execution_count": 68,
   "metadata": {},
   "outputs": [],
   "source": [
    "x_new_train=x_train.map(normalize)"
   ]
  },
  {
   "cell_type": "code",
   "execution_count": 69,
   "metadata": {},
   "outputs": [],
   "source": [
    "y_new_train=y_train.map(convert_to_one_hot)"
   ]
  },
  {
   "cell_type": "code",
   "execution_count": 72,
   "metadata": {},
   "outputs": [
    {
     "name": "stdout",
     "output_type": "stream",
     "text": [
      "Cost after epoch 10 - tf.Tensor(0.2524399, shape=(), dtype=float32)\n",
      "Training accuracy -  tf.Tensor(0.10233333, shape=(), dtype=float32)\n",
      "Cost after epoch 20 - tf.Tensor(0.2408563, shape=(), dtype=float32)\n",
      "Training accuracy -  tf.Tensor(0.09835714, shape=(), dtype=float32)\n",
      "Cost after epoch 30 - tf.Tensor(0.23076218, shape=(), dtype=float32)\n",
      "Training accuracy -  tf.Tensor(0.09421428, shape=(), dtype=float32)\n",
      "Cost after epoch 40 - tf.Tensor(0.22089142, shape=(), dtype=float32)\n",
      "Training accuracy -  tf.Tensor(0.09026191, shape=(), dtype=float32)\n",
      "Cost after epoch 50 - tf.Tensor(0.21418203, shape=(), dtype=float32)\n",
      "Training accuracy -  tf.Tensor(0.08726191, shape=(), dtype=float32)\n",
      "Cost after epoch 60 - tf.Tensor(0.20804653, shape=(), dtype=float32)\n",
      "Training accuracy -  tf.Tensor(0.0852619, shape=(), dtype=float32)\n",
      "Cost after epoch 70 - tf.Tensor(0.20252202, shape=(), dtype=float32)\n",
      "Training accuracy -  tf.Tensor(0.08295238, shape=(), dtype=float32)\n",
      "Cost after epoch 80 - tf.Tensor(0.19652897, shape=(), dtype=float32)\n",
      "Training accuracy -  tf.Tensor(0.08090476, shape=(), dtype=float32)\n",
      "Cost after epoch 90 - tf.Tensor(0.19143388, shape=(), dtype=float32)\n",
      "Training accuracy -  tf.Tensor(0.078190476, shape=(), dtype=float32)\n",
      "Cost after epoch 100 - tf.Tensor(0.18614687, shape=(), dtype=float32)\n",
      "Training accuracy -  tf.Tensor(0.076238096, shape=(), dtype=float32)\n",
      "Cost after epoch 110 - tf.Tensor(0.18005335, shape=(), dtype=float32)\n",
      "Training accuracy -  tf.Tensor(0.07319047, shape=(), dtype=float32)\n",
      "Cost after epoch 120 - tf.Tensor(0.175348, shape=(), dtype=float32)\n",
      "Training accuracy -  tf.Tensor(0.07040476, shape=(), dtype=float32)\n",
      "Cost after epoch 130 - tf.Tensor(0.17041343, shape=(), dtype=float32)\n",
      "Training accuracy -  tf.Tensor(0.066690475, shape=(), dtype=float32)\n",
      "Cost after epoch 140 - tf.Tensor(0.16561629, shape=(), dtype=float32)\n",
      "Training accuracy -  tf.Tensor(0.06245238, shape=(), dtype=float32)\n",
      "Cost after epoch 150 - tf.Tensor(0.16009535, shape=(), dtype=float32)\n",
      "Training accuracy -  tf.Tensor(0.05764286, shape=(), dtype=float32)\n"
     ]
    }
   ],
   "source": [
    "p,c,a=model(x_new_train,y_new_train)"
   ]
  },
  {
   "cell_type": "code",
   "execution_count": 73,
   "metadata": {},
   "outputs": [
    {
     "data": {
      "text/plain": [
       "[<matplotlib.lines.Line2D at 0x1f88e4e5780>]"
      ]
     },
     "execution_count": 73,
     "metadata": {},
     "output_type": "execute_result"
    },
    {
     "data": {
      "image/png": "[encoded data removed]",
      "text/plain": [
       "<Figure size 432x288 with 1 Axes>"
      ]
     },
     "metadata": {
      "needs_background": "light"
     },
     "output_type": "display_data"
    }
   ],
   "source": [
    "costs=np.array(c)\n",
    "iterations=np.arange(0,150,10)\n",
    "\n",
    "plt.plot(iterations,costs)"
   ]
  },
  {
   "cell_type": "code",
   "execution_count": 75,
   "metadata": {},
   "outputs": [
    {
     "name": "stdout",
     "output_type": "stream",
     "text": [
      "Cost after epoch 10 - tf.Tensor(0.15431188, shape=(), dtype=float32)\n",
      "Training accuracy -  tf.Tensor(0.05102381, shape=(), dtype=float32)\n",
      "Cost after epoch 20 - tf.Tensor(0.14997517, shape=(), dtype=float32)\n",
      "Training accuracy -  tf.Tensor(0.046666667, shape=(), dtype=float32)\n",
      "Cost after epoch 30 - tf.Tensor(0.14524351, shape=(), dtype=float32)\n",
      "Training accuracy -  tf.Tensor(0.041619048, shape=(), dtype=float32)\n",
      "Cost after epoch 40 - tf.Tensor(0.14153661, shape=(), dtype=float32)\n",
      "Training accuracy -  tf.Tensor(0.037142858, shape=(), dtype=float32)\n",
      "Cost after epoch 50 - tf.Tensor(0.13804653, shape=(), dtype=float32)\n",
      "Training accuracy -  tf.Tensor(0.03345238, shape=(), dtype=float32)\n",
      "Cost after epoch 60 - tf.Tensor(0.1351522, shape=(), dtype=float32)\n",
      "Training accuracy -  tf.Tensor(0.0305, shape=(), dtype=float32)\n",
      "Cost after epoch 70 - tf.Tensor(0.1327969, shape=(), dtype=float32)\n",
      "Training accuracy -  tf.Tensor(0.028404761, shape=(), dtype=float32)\n",
      "Cost after epoch 80 - tf.Tensor(0.13061468, shape=(), dtype=float32)\n",
      "Training accuracy -  tf.Tensor(0.026047619, shape=(), dtype=float32)\n",
      "Cost after epoch 90 - tf.Tensor(0.12865669, shape=(), dtype=float32)\n",
      "Training accuracy -  tf.Tensor(0.024261905, shape=(), dtype=float32)\n",
      "Cost after epoch 100 - tf.Tensor(0.1268515, shape=(), dtype=float32)\n",
      "Training accuracy -  tf.Tensor(0.02252381, shape=(), dtype=float32)\n",
      "Cost after epoch 110 - tf.Tensor(0.12507607, shape=(), dtype=float32)\n",
      "Training accuracy -  tf.Tensor(0.021214286, shape=(), dtype=float32)\n",
      "Cost after epoch 120 - tf.Tensor(0.123373404, shape=(), dtype=float32)\n",
      "Training accuracy -  tf.Tensor(0.019857142, shape=(), dtype=float32)\n",
      "Cost after epoch 130 - tf.Tensor(0.12162716, shape=(), dtype=float32)\n",
      "Training accuracy -  tf.Tensor(0.018690476, shape=(), dtype=float32)\n",
      "Cost after epoch 140 - tf.Tensor(0.12003138, shape=(), dtype=float32)\n",
      "Training accuracy -  tf.Tensor(0.017404761, shape=(), dtype=float32)\n",
      "Cost after epoch 150 - tf.Tensor(0.118612245, shape=(), dtype=float32)\n",
      "Training accuracy -  tf.Tensor(0.016095238, shape=(), dtype=float32)\n"
     ]
    }
   ],
   "source": [
    "p2,c2,a2=model(x_new_train,y_new_train,p)"
   ]
  },
  {
   "cell_type": "code",
   "execution_count": 76,
   "metadata": {},
   "outputs": [],
   "source": [
    "costs=c+c2\n"
   ]
  },
  {
   "cell_type": "code",
   "execution_count": 81,
   "metadata": {},
   "outputs": [
    {
     "data": {
      "text/plain": [
       "[<matplotlib.lines.Line2D at 0x1f88e7119c0>]"
      ]
     },
     "execution_count": 81,
     "metadata": {},
     "output_type": "execute_result"
    },
    {
     "data": {
      "image/png": "[encoded data removed]",
      "text/plain": [
       "<Figure size 432x288 with 1 Axes>"
      ]
     },
     "metadata": {
      "needs_background": "light"
     },
     "output_type": "display_data"
    }
   ],
   "source": [
    "costs=np.array(costs)\n",
    "iterations=np.arange(0,300,10)\n",
    "\n",
    "plt.plot(iterations,costs)"
   ]
  },
  {
   "cell_type": "code",
   "execution_count": 83,
   "metadata": {},
   "outputs": [
    {
     "name": "stdout",
     "output_type": "stream",
     "text": [
      "Cost after epoch 10 - tf.Tensor(0.116691895, shape=(), dtype=float32)\n",
      "Training accuracy -  tf.Tensor(0.014619048, shape=(), dtype=float32)\n",
      "Cost after epoch 20 - tf.Tensor(0.11432949, shape=(), dtype=float32)\n",
      "Training accuracy -  tf.Tensor(0.01347619, shape=(), dtype=float32)\n",
      "Cost after epoch 30 - tf.Tensor(0.11201603, shape=(), dtype=float32)\n",
      "Training accuracy -  tf.Tensor(0.012357143, shape=(), dtype=float32)\n",
      "Cost after epoch 40 - tf.Tensor(0.110038504, shape=(), dtype=float32)\n",
      "Training accuracy -  tf.Tensor(0.011261905, shape=(), dtype=float32)\n",
      "Cost after epoch 50 - tf.Tensor(0.108277574, shape=(), dtype=float32)\n",
      "Training accuracy -  tf.Tensor(0.010666667, shape=(), dtype=float32)\n",
      "Cost after epoch 60 - tf.Tensor(0.10662464, shape=(), dtype=float32)\n",
      "Training accuracy -  tf.Tensor(0.009952381, shape=(), dtype=float32)\n",
      "Cost after epoch 70 - tf.Tensor(0.10506851, shape=(), dtype=float32)\n",
      "Training accuracy -  tf.Tensor(0.009238095, shape=(), dtype=float32)\n"
     ]
    }
   ],
   "source": [
    "p3,c3,a3=model(x_new_train,y_new_train,p2)"
   ]
  },
  {
   "cell_type": "code",
   "execution_count": 84,
   "metadata": {},
   "outputs": [],
   "source": [
    "costs=np.array(c+c2+c3)\n",
    "iterations=np.arange(0,370,10)"
   ]
  },
  {
   "cell_type": "code",
   "execution_count": 87,
   "metadata": {},
   "outputs": [
    {
     "data": {
      "text/plain": [
       "Text(0, 0.5, 'Cost')"
      ]
     },
     "execution_count": 87,
     "metadata": {},
     "output_type": "execute_result"
    },
    {
     "data": {
      "image/png": "[encoded data removed]",
      "text/plain": [
       "<Figure size 432x288 with 1 Axes>"
      ]
     },
     "metadata": {
      "needs_background": "light"
     },
     "output_type": "display_data"
    }
   ],
   "source": [
    "plt.plot(iterations,costs)\n",
    "plt.title(\"Learning\")\n",
    "plt.xlabel(\"Iterations\")\n",
    "plt.ylabel(\"Cost\")"
   ]
  },
  {
   "cell_type": "code",
   "execution_count": null,
   "metadata": {},
   "outputs": [],
   "source": []
  }
 ],
 "metadata": {
  "interpreter": {
   "hash": "bdcbd0957c7e38b476a98f409a2bce87bd2b42978fec1f4d5cc479dd30fc8004"
  },
  "kernelspec": {
   "display_name": "Python 3.10.2 64-bit",
   "language": "python",
   "name": "python3"
  },
  "language_info": {
   "codemirror_mode": {
    "name": "ipython",
    "version": 3
   },
   "file_extension": ".py",
   "mimetype": "text/x-python",
   "name": "python",
   "nbconvert_exporter": "python",
   "pygments_lexer": "ipython3",
   "version": "3.10.2"
  },
  "orig_nbformat": 4
 },
 "nbformat": 4,
 "nbformat_minor": 2
}
