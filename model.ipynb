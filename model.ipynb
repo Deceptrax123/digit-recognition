{
 "cells": [
  {
   "cell_type": "code",
   "execution_count": 1,
   "metadata": {},
   "outputs": [],
   "source": [
    "import numpy as np\n",
    "import matplotlib as plt\n",
    "import tensorflow as tf\n",
    "import keras\n",
    "import csv\n",
    "import pandas as pd"
   ]
  },
  {
   "cell_type": "code",
   "execution_count": 82,
   "metadata": {},
   "outputs": [],
   "source": [
    "def normalize(X_train):\n",
    "   newx_train=tf.cast(X_train,tf.float32)/255\n",
    "   \n",
    "   return newx_train\n"
   ]
  },
  {
   "cell_type": "code",
   "execution_count": 9,
   "metadata": {},
   "outputs": [],
   "source": [
    "def initialize_parameters():\n",
    "    hidden_units=[(20,784),(15,20),(12,15),(10,12)]\n",
    "    parameters=dict()\n",
    "    \n",
    "    layers=len(hidden_units)\n",
    "    \n",
    "    for i in range(1,layers+1):\n",
    "        parameters[\"W\"+str(i)]=tf.Variable(np.random.randn(hidden_units[i-1][0],hidden_units[i-1][1])*np.sqrt(2/np.power(i,(layers-1))),name=\"w\"+str(i))\n",
    "        parameters[\"B\"+str(i)]=tf.Variable(np.random.randn(hidden_units[i-1][0],1),name=\"b\"+str(i))\n",
    "    return parameters\n",
    "        "
   ]
  },
  {
   "cell_type": "code",
   "execution_count": 89,
   "metadata": {},
   "outputs": [],
   "source": [
    "def convert_to_one_hot(label,depth=10):\n",
    "    encoded=tf.one_hot(label,depth,axis=0)\n",
    "    transformed_Y=tf.reshape(encoded,[depth,])\n",
    "    \n",
    "    return transformed_Y"
   ]
  },
  {
   "cell_type": "code",
   "execution_count": 11,
   "metadata": {},
   "outputs": [],
   "source": [
    "def forward_propagation(X,parameters):\n",
    "    \n",
    "    layers=len(parameters)//2\n",
    "    activations,linearOutput=dict()\n",
    "    \n",
    "    activations[\"A0\"]=X\n",
    "    for i in range(1,layers+1):\n",
    "        linearOutput[\"Z\"+str(i)]=tf.add(tf.linalg(parameters[\"W\"+str(i)],activations[\"A\"+str(i-1)]),parameters[\"B\"+str(i)])\n",
    "        if i!=layers-1:\n",
    "            activations[\"A\"+str(i)]=tf.keras.activations.relu(linearOutput[\"Z\"+str(i)])\n",
    "        \n",
    "    return linearOutput[\"Z\"+str(layers)]   "
   ]
  },
  {
   "cell_type": "code",
   "execution_count": 12,
   "metadata": {},
   "outputs": [],
   "source": [
    "def losses(linear,y_labels):\n",
    "    cost=tf.reduce_mean(tf.keras.losses.categorical_crossentropy(y_labels,linear))\n",
    "    \n",
    "    return cost\n"
   ]
  },
  {
   "cell_type": "code",
   "execution_count": 52,
   "metadata": {},
   "outputs": [],
   "source": [
    "def model(X_train,Y_train,learning_rate=0.001,num_epochs=5000,minibatch_size=32,print_cost=True):\n",
    "    costs=list()\n",
    "    training_accuracies=list()\n",
    "    \n",
    "    parameters=initialize_parameters()\n",
    "    optimizing_algo=tf.keras.optimizers.Adam(learning_rate)\n",
    "    accuracy=tf.keras.metrics.CategoricalAccuracy()\n",
    "    trainingSet=tf.data.Dataset.zip((X_train,Y_train))\n",
    "    minibatches=trainingSet.batch(minibatch_size).prefetch(8)\n",
    "    \n",
    "    m=trainingSet.cardinality().numpy()\n",
    "    \n",
    "    for e in range(1,num_epochs+1):\n",
    "        epochCost=0\n",
    "        accuracy.reset_states()\n",
    "        \n",
    "        for (mini_X,mini_Y) in minibatches:\n",
    "            \n",
    "            with tf.GradientTape as t:\n",
    "                linearOutput=forward_propagation(mini_X,parameters)\n",
    "                \n",
    "                mini_loss=losses(linearOutput,Y_train)\n",
    "            accuracy.update_state(mini_Y,tf.transpose(linearOutput))\n",
    "            \n",
    "            training_parameters=list(parameters.keys())\n",
    "            gradients=t.gradient(mini_loss,training_parameters)\n",
    "            \n",
    "            optimizing_algo.apply_gradients(zip(gradients,training_parameters))\n",
    "            \n",
    "            epochCost+=mini_loss\n",
    "        epochCost/=m\n",
    "        \n",
    "        if print_cost==True and e%10==0:   \n",
    "            print(\"Cost after epoch\",e,\"-\",epochCost)\n",
    "            print(\"Training accuracy - \",accuracy.result())\n",
    "            \n",
    "            costs.append(epochCost)\n",
    "            training_accuracies.append(accuracy.result())\n",
    "    return parameters,costs,training_accuracies,costs"
   ]
  },
  {
   "cell_type": "code",
   "execution_count": 70,
   "metadata": {},
   "outputs": [],
   "source": [
    "\n",
    "#main\n",
    "train_set=pd.read_csv(\"train.csv\")\n",
    "test_set=pd.read_csv(\"test.csv\")"
   ]
  },
  {
   "cell_type": "code",
   "execution_count": 76,
   "metadata": {},
   "outputs": [],
   "source": [
    "x_train=tf.data.Dataset.from_tensor_slices(train_set.drop('label',axis=1))\n",
    "y_train=tf.data.Dataset.from_tensor_slices(train_set['label'])"
   ]
  },
  {
   "cell_type": "code",
   "execution_count": 77,
   "metadata": {},
   "outputs": [
    {
     "data": {
      "text/plain": [
       "TensorSpec(shape=(784,), dtype=tf.int64, name=None)"
      ]
     },
     "execution_count": 77,
     "metadata": {},
     "output_type": "execute_result"
    }
   ],
   "source": [
    "x_train.element_spec"
   ]
  },
  {
   "cell_type": "code",
   "execution_count": 78,
   "metadata": {},
   "outputs": [
    {
     "name": "stdout",
     "output_type": "stream",
     "text": [
      "tf.Tensor(\n",
      "[  0   0   0   0   0   0   0   0   0   0   0   0   0   0   0   0   0   0\n",
      "   0   0   0   0   0   0   0   0   0   0   0   0   0   0   0   0   0   0\n",
      "   0   0   0   0   0   0   0   0   0   0   0   0   0   0   0   0   0   0\n",
      "   0   0   0   0   0   0   0   0   0   0   0   0   0   0   0   0   0   0\n",
      "   0   0   0   0   0   0   0   0   0   0   0   0   0   0   0   0   0   0\n",
      "   0   0   0   0   0   0   0   0   0   0   0   0   0   0   0   0   0   0\n",
      "   0   0   0   0   0   0   0   0   0   0   0   0   0   0   0   0   0   0\n",
      "   0   0   0   0   0   0 188 255  94   0   0   0   0   0   0   0   0   0\n",
      "   0   0   0   0   0   0   0   0   0   0   0   0   0   0   0 191 250 253\n",
      "  93   0   0   0   0   0   0   0   0   0   0   0   0   0   0   0   0   0\n",
      "   0   0   0   0   0   0 123 248 253 167  10   0   0   0   0   0   0   0\n",
      "   0   0   0   0   0   0   0   0   0   0   0   0   0   0   0  80 247 253\n",
      " 208  13   0   0   0   0   0   0   0   0   0   0   0   0   0   0   0   0\n",
      "   0   0   0   0   0   0  29 207 253 235  77   0   0   0   0   0   0   0\n",
      "   0   0   0   0   0   0   0   0   0   0   0   0   0   0   0  54 209 253\n",
      " 253  88   0   0   0   0   0   0   0   0   0   0   0   0   0   0   0   0\n",
      "   0   0   0   0   0   0  93 254 253 238 170  17   0   0   0   0   0   0\n",
      "   0   0   0   0   0   0   0   0   0   0   0   0   0   0   0  23 210 254\n",
      " 253 159   0   0   0   0   0   0   0   0   0   0   0   0   0   0   0   0\n",
      "   0   0   0   0   0   0  16 209 253 254 240  81   0   0   0   0   0   0\n",
      "   0   0   0   0   0   0   0   0   0   0   0   0   0   0   0   0  27 253\n",
      " 253 254  13   0   0   0   0   0   0   0   0   0   0   0   0   0   0   0\n",
      "   0   0   0   0   0   0   0  20 206 254 254 198   7   0   0   0   0   0\n",
      "   0   0   0   0   0   0   0   0   0   0   0   0   0   0   0   0   0 168\n",
      " 253 253 196   7   0   0   0   0   0   0   0   0   0   0   0   0   0   0\n",
      "   0   0   0   0   0   0   0   0  20 203 253 248  76   0   0   0   0   0\n",
      "   0   0   0   0   0   0   0   0   0   0   0   0   0   0   0   0   0  22\n",
      " 188 253 245  93   0   0   0   0   0   0   0   0   0   0   0   0   0   0\n",
      "   0   0   0   0   0   0   0   0   0 103 253 253 191   0   0   0   0   0\n",
      "   0   0   0   0   0   0   0   0   0   0   0   0   0   0   0   0   0   0\n",
      "  89 240 253 195  25   0   0   0   0   0   0   0   0   0   0   0   0   0\n",
      "   0   0   0   0   0   0   0   0   0  15 220 253 253  80   0   0   0   0\n",
      "   0   0   0   0   0   0   0   0   0   0   0   0   0   0   0   0   0   0\n",
      "   0  94 253 253 253  94   0   0   0   0   0   0   0   0   0   0   0   0\n",
      "   0   0   0   0   0   0   0   0   0   0   0  89 251 253 250 131   0   0\n",
      "   0   0   0   0   0   0   0   0   0   0   0   0   0   0   0   0   0   0\n",
      "   0   0   0   0 214 218  95   0   0   0   0   0   0   0   0   0   0   0\n",
      "   0   0   0   0   0   0   0   0   0   0   0   0   0   0   0   0   0   0\n",
      "   0   0   0   0   0   0   0   0   0   0   0   0   0   0   0   0   0   0\n",
      "   0   0   0   0   0   0   0   0   0   0   0   0   0   0   0   0   0   0\n",
      "   0   0   0   0   0   0   0   0   0   0   0   0   0   0   0   0   0   0\n",
      "   0   0   0   0   0   0   0   0   0   0   0   0   0   0   0   0   0   0\n",
      "   0   0   0   0   0   0   0   0   0   0   0   0   0   0   0   0   0   0\n",
      "   0   0   0   0   0   0   0   0   0   0], shape=(784,), dtype=int64)\n"
     ]
    }
   ],
   "source": [
    "print(next(iter(x_train)))"
   ]
  },
  {
   "cell_type": "code",
   "execution_count": 79,
   "metadata": {},
   "outputs": [
    {
     "data": {
      "text/plain": [
       "TensorSpec(shape=(), dtype=tf.int64, name=None)"
      ]
     },
     "execution_count": 79,
     "metadata": {},
     "output_type": "execute_result"
    }
   ],
   "source": [
    "y_train.element_spec"
   ]
  },
  {
   "cell_type": "code",
   "execution_count": 93,
   "metadata": {},
   "outputs": [],
   "source": [
    "x_new_train=x_train.map(normalize)"
   ]
  },
  {
   "cell_type": "code",
   "execution_count": 94,
   "metadata": {},
   "outputs": [],
   "source": [
    "y_new_train=y_train.map(convert_to_one_hot)"
   ]
  },
  {
   "cell_type": "code",
   "execution_count": 95,
   "metadata": {},
   "outputs": [],
   "source": [
    "k=tf.data.Dataset.zip((x_new_train,y_new_train))"
   ]
  },
  {
   "cell_type": "code",
   "execution_count": 96,
   "metadata": {},
   "outputs": [],
   "source": [
    "p=initialize_parameters()"
   ]
  },
  {
   "cell_type": "code",
   "execution_count": null,
   "metadata": {},
   "outputs": [],
   "source": []
  }
 ],
 "metadata": {
  "interpreter": {
   "hash": "bdcbd0957c7e38b476a98f409a2bce87bd2b42978fec1f4d5cc479dd30fc8004"
  },
  "kernelspec": {
   "display_name": "Python 3.10.2 64-bit",
   "language": "python",
   "name": "python3"
  },
  "language_info": {
   "codemirror_mode": {
    "name": "ipython",
    "version": 3
   },
   "file_extension": ".py",
   "mimetype": "text/x-python",
   "name": "python",
   "nbconvert_exporter": "python",
   "pygments_lexer": "ipython3",
   "version": "3.10.2"
  },
  "orig_nbformat": 4
 },
 "nbformat": 4,
 "nbformat_minor": 2
}
