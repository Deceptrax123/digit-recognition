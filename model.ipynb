{
 "cells": [
  {
   "cell_type": "code",
   "execution_count": 54,
   "metadata": {},
   "outputs": [],
   "source": [
    "import tensorflow as tf \n",
    "import pandas as pd\n",
    "import numpy as np\n",
    "import matplotlib.pyplot as plt"
   ]
  },
  {
   "cell_type": "code",
   "execution_count": 55,
   "metadata": {},
   "outputs": [],
   "source": [
    "def convert_to_one_hot(label,depth=10):\n",
    "    encoded=tf.one_hot(label,depth,axis=0)\n",
    "    \n",
    "    return encoded"
   ]
  },
  {
   "cell_type": "code",
   "execution_count": 81,
   "metadata": {},
   "outputs": [],
   "source": [
    "def model_build(layers):\n",
    "    model=tf.keras.Sequential()\n",
    "    bias=tf.keras.initializers.HeNormal(seed=1)\n",
    "    units=[25,15,10]\n",
    "    for i in range(layers):\n",
    "        if i==0:\n",
    "            model.add(tf.keras.layers.Dense(units[i],activation=\"relu\",kernel_initializer=\"he_normal\",use_bias=True,bias_initializer=bias,input_shape=(784,)))\n",
    "        elif i>0 and i!=layers-1:\n",
    "            model.add(tf.keras.layers.Dense(units[i],activation=\"relu\",kernel_initializer=\"he_normal\",use_bias=True,bias_initializer=bias))\n",
    "        elif i==layers-1:\n",
    "            model.add(tf.keras.layers.Dense(units[i],activation=\"softmax\",kernel_initializer=\"he_normal\",use_bias=True,bias_initializer=bias))\n",
    "    \n",
    "    return model\n",
    "       "
   ]
  },
  {
   "cell_type": "code",
   "execution_count": 84,
   "metadata": {},
   "outputs": [],
   "source": [
    "def model_run(model,x,y,num_epochs=270,learning_rate=0.0001,batchSize=32,show_costs=1):\n",
    "    \n",
    "    optimizing_algo=tf.keras.optimizers.Adam(learning_rate)\n",
    "\n",
    "    model.compile(optimizer=optimizing_algo,loss=\"categorical_crossentropy\",metrics=['accuracy'])\n",
    "    learning=model.fit(x,y,epochs=num_epochs,batch_size=batchSize,verbose=show_costs)\n",
    "    \n",
    "    return learning\n",
    "    "
   ]
  },
  {
   "cell_type": "code",
   "execution_count": 58,
   "metadata": {},
   "outputs": [],
   "source": [
    "def plot(learning):\n",
    "    #Plotting Loss vs epochs\n",
    "    plt.plot(learning.history['loss'])\n",
    "    plt.xlabel(\"Epochs\")\n",
    "    plt.ylabel(\"Cost\")\n",
    "    plt.title(\"Learning Curve\")\n",
    "    plt.show()\n",
    "    \n",
    "    #Plotting Accuracy vs epochs\n",
    "    plt.plot(learning.history['accuracy'])\n",
    "    plt.xlabel(\"Epochs\")\n",
    "    plt.ylabel(\"Cost\")\n",
    "    plt.title(\"Accuracy Improvement\")\n",
    "    plt.show()    "
   ]
  },
  {
   "cell_type": "code",
   "execution_count": 85,
   "metadata": {},
   "outputs": [],
   "source": [
    "ds=pd.read_csv(\"train.csv\")\n",
    "pred=pd.read_csv(\"test.csv\")"
   ]
  },
  {
   "cell_type": "code",
   "execution_count": 86,
   "metadata": {},
   "outputs": [],
   "source": [
    "x=ds.drop('label',axis=1)\n",
    "y=ds['label']"
   ]
  },
  {
   "cell_type": "code",
   "execution_count": 87,
   "metadata": {},
   "outputs": [],
   "source": [
    "x_train=np.array(x/255) #normalization\n",
    "y_train=(np.array(convert_to_one_hot(y))).reshape((42000,10)) #One hot labels"
   ]
  },
  {
   "cell_type": "code",
   "execution_count": 88,
   "metadata": {},
   "outputs": [
    {
     "name": "stdout",
     "output_type": "stream",
     "text": [
      "(42000, 784)\n"
     ]
    }
   ],
   "source": [
    "print(x_train.shape)"
   ]
  },
  {
   "cell_type": "code",
   "execution_count": 89,
   "metadata": {},
   "outputs": [],
   "source": [
    "#Converting to float\n",
    "\n",
    "x_train=x_train.astype('float32')\n",
    "y_train=y_train.astype('float32')"
   ]
  },
  {
   "cell_type": "code",
   "execution_count": 90,
   "metadata": {},
   "outputs": [],
   "source": [
    "model=model_build(3)\n"
   ]
  },
  {
   "cell_type": "code",
   "execution_count": null,
   "metadata": {},
   "outputs": [],
   "source": []
  }
 ],
 "metadata": {
  "interpreter": {
   "hash": "bdcbd0957c7e38b476a98f409a2bce87bd2b42978fec1f4d5cc479dd30fc8004"
  },
  "kernelspec": {
   "display_name": "Python 3.10.2 64-bit",
   "language": "python",
   "name": "python3"
  },
  "language_info": {
   "codemirror_mode": {
    "name": "ipython",
    "version": 3
   },
   "file_extension": ".py",
   "mimetype": "text/x-python",
   "name": "python",
   "nbconvert_exporter": "python",
   "pygments_lexer": "ipython3",
   "version": "3.10.2"
  },
  "orig_nbformat": 4
 },
 "nbformat": 4,
 "nbformat_minor": 2
}
