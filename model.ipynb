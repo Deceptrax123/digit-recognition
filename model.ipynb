{
 "cells": [
  {
   "cell_type": "code",
   "execution_count": 1,
   "metadata": {},
   "outputs": [],
   "source": [
    "import numpy as np\n",
    "import matplotlib as plt\n",
    "import tensorflow as tf\n",
    "import keras\n",
    "import csv\n",
    "import pandas as pd"
   ]
  },
  {
   "cell_type": "code",
   "execution_count": 2,
   "metadata": {},
   "outputs": [],
   "source": [
    "\n",
    "train_set=pd.read_csv(\"train.csv\")\n",
    "test_set=pd.read_csv(\"test.csv\")\n"
   ]
  },
  {
   "cell_type": "code",
   "execution_count": 3,
   "metadata": {},
   "outputs": [],
   "source": [
    "Y_train=train_set.iloc[:,0]\n",
    "X_train=train_set.iloc[:,1:]\n",
    "\n",
    "X_test=test_set\n"
   ]
  },
  {
   "cell_type": "code",
   "execution_count": 4,
   "metadata": {},
   "outputs": [],
   "source": [
    "X_train=X_train.values.reshape((784,42000))\n",
    "Y_train=Y_train.values.reshape((1,42000))\n",
    "\n",
    "X_test=X_test.values.reshape((784,28000))\n"
   ]
  },
  {
   "cell_type": "code",
   "execution_count": 5,
   "metadata": {},
   "outputs": [],
   "source": [
    "def normalize(X_train,X_test):\n",
    "    X_train=X_train/255\n",
    "    X_test=X_test/255\n",
    "    \n",
    "    return X_train,X_test\n",
    "X_train,X_test=normalize(X_train,X_test)\n",
    "X_train=tf.Variable(X_train)\n",
    "X_test=tf.Variable(X_test)\n",
    "Y_train=tf.Variable(Y_train)"
   ]
  },
  {
   "cell_type": "code",
   "execution_count": 6,
   "metadata": {},
   "outputs": [],
   "source": [
    "def initialize_parameters():\n",
    "    hidden_units=[(20,784),(15,20),(12,15),(10,12)]\n",
    "    parameters=dict()\n",
    "    \n",
    "    layers=len(hidden_units)\n",
    "    \n",
    "    for i in range(1,layers+1):\n",
    "        parameters[\"W\"+str(i)]=tf.Variable(np.random.randn(hidden_units[i-1][0],hidden_units[i-1][1])*np.sqrt(2/np.power(i,(layers-1))),name=\"w\"+str(i))\n",
    "        parameters[\"B\"+str(i)]=tf.Variable(np.random.randn(hidden_units[i-1][0],1),name=\"b\"+str(i))\n",
    "    return parameters\n",
    "        "
   ]
  },
  {
   "cell_type": "code",
   "execution_count": 7,
   "metadata": {},
   "outputs": [],
   "source": [
    "def convert_to_one_hot(label,depth=10):\n",
    "    encoded=tf.one_hot(label,depth,axis=0)\n",
    "    transformed_Y=tf.reshape(encoded,[depth,encoded.shape[2]])\n",
    "    \n",
    "    return transformed_Y"
   ]
  },
  {
   "cell_type": "code",
   "execution_count": 8,
   "metadata": {},
   "outputs": [],
   "source": [
    "def forward_propagation(X,parameters):\n",
    "    \n",
    "    layers=len(parameters)//2\n",
    "    activations,linearOutput=dict()\n",
    "    \n",
    "    activations[\"A0\"]=X\n",
    "    for i in range(1,layers+1):\n",
    "        linearOutput[\"Z\"+str(i)]=tf.add(tf.linalg(parameters[\"W\"+str(i)],activations[\"A\"+str(i-1)]),parameters[\"B\"+str(i)])\n",
    "        if i!=layers-1:\n",
    "            activations[\"A\"+str(i)]=tf.keras.activations.relu(linearOutput[\"Z\"+str(i)])\n",
    "        \n",
    "    return linearOutput[\"Z\"+str(layers)]   "
   ]
  },
  {
   "cell_type": "code",
   "execution_count": 9,
   "metadata": {},
   "outputs": [],
   "source": [
    "def losses(linear,y_labels):\n",
    "    cost=tf.reduce_mean(tf.keras.losses.categorical_crossentropy(y_labels,linear))\n",
    "    \n",
    "    return cost\n"
   ]
  },
  {
   "cell_type": "code",
   "execution_count": null,
   "metadata": {},
   "outputs": [],
   "source": []
  }
 ],
 "metadata": {
  "interpreter": {
   "hash": "bdcbd0957c7e38b476a98f409a2bce87bd2b42978fec1f4d5cc479dd30fc8004"
  },
  "kernelspec": {
   "display_name": "Python 3.10.2 64-bit",
   "language": "python",
   "name": "python3"
  },
  "language_info": {
   "codemirror_mode": {
    "name": "ipython",
    "version": 3
   },
   "file_extension": ".py",
   "mimetype": "text/x-python",
   "name": "python",
   "nbconvert_exporter": "python",
   "pygments_lexer": "ipython3",
   "version": "3.10.2"
  },
  "orig_nbformat": 4
 },
 "nbformat": 4,
 "nbformat_minor": 2
}
