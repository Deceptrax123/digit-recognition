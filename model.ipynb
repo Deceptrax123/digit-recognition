{
 "cells": [
  {
   "cell_type": "code",
   "execution_count": 59,
   "metadata": {},
   "outputs": [],
   "source": [
    "import numpy as np\n",
    "import matplotlib.pyplot as plt\n",
    "import tensorflow as tf\n",
    "import keras\n",
    "import csv\n",
    "import json\n",
    "import pandas as pd"
   ]
  },
  {
   "cell_type": "code",
   "execution_count": 10,
   "metadata": {},
   "outputs": [],
   "source": [
    "def normalize(X_train):\n",
    "   newx_train=tf.cast(X_train,tf.float32)/255\n",
    "   \n",
    "   return newx_train\n"
   ]
  },
  {
   "cell_type": "code",
   "execution_count": 116,
   "metadata": {},
   "outputs": [],
   "source": [
    "def initialize_parameters():\n",
    "    hidden_units=[(25,784),(15,25),(10,15)]\n",
    "    parameters=dict()\n",
    "    \n",
    "    layers=len(hidden_units)\n",
    "    \n",
    "    initializer=tf.keras.initializers.HeNormal()\n",
    "    \n",
    "    for i in range(1,layers+1):\n",
    "        parameters[\"W\"+str(i)]=tf.Variable(initializer(shape=(hidden_units[i-1][0],hidden_units[i-1][1]))) \n",
    "        parameters[\"B\"+str(i)]=tf.Variable(initializer(shape=(hidden_units[i-1][0],1)))\n",
    "       \n",
    "    return parameters\n",
    "        "
   ]
  },
  {
   "cell_type": "code",
   "execution_count": 12,
   "metadata": {},
   "outputs": [],
   "source": [
    "def convert_to_one_hot(label,depth=10):\n",
    "    encoded=tf.one_hot(label,depth,axis=0)\n",
    "    transformed_Y=tf.reshape(encoded,[depth,])\n",
    "    \n",
    "    return transformed_Y"
   ]
  },
  {
   "cell_type": "code",
   "execution_count": 37,
   "metadata": {},
   "outputs": [],
   "source": [
    "def forward_propagation(X,parameters):\n",
    "    \n",
    "    layers=len(parameters)//2\n",
    "    activations=dict()\n",
    "    linearOutput=dict()\n",
    "    \n",
    "    activations[\"A0\"]=X\n",
    "    for i in range(1,layers+1):\n",
    "        linearOutput[\"Z\"+str(i)]=tf.add(tf.linalg.matmul(parameters[\"W\"+str(i)],activations[\"A\"+str(i-1)]),parameters[\"B\"+str(i)])\n",
    "        if i!=layers:\n",
    "            activations[\"A\"+str(i)]=tf.keras.activations.relu(linearOutput[\"Z\"+str(i)])\n",
    "        \n",
    "        \n",
    "        \n",
    "    return linearOutput[\"Z\"+str(layers)]"
   ]
  },
  {
   "cell_type": "code",
   "execution_count": 38,
   "metadata": {},
   "outputs": [],
   "source": [
    "def losses(linear,y_labels):\n",
    "    \n",
    "    cost=tf.reduce_mean(tf.keras.losses.categorical_crossentropy(y_labels,linear))\n",
    "    \n",
    "    return cost\n"
   ]
  },
  {
   "cell_type": "code",
   "execution_count": 119,
   "metadata": {},
   "outputs": [],
   "source": [
    "def model(X_train,Y_train,learning_rate=0.000001,num_epochs=150,minibatch_size=16,print_cost=True):\n",
    "    costs=list()\n",
    "    training_accuracies=list()\n",
    "    \n",
    "    parameters=initialize_parameters()\n",
    "    optimizing_algo=tf.keras.optimizers.Adam(learning_rate)\n",
    "    accuracy=tf.keras.metrics.CategoricalAccuracy()\n",
    "    trainingSet=tf.data.Dataset.zip((X_train,Y_train))\n",
    "    minibatches=trainingSet.batch(minibatch_size).prefetch(8)\n",
    "    \n",
    "    m=trainingSet.cardinality().numpy()\n",
    "    \n",
    "    W1=parameters[\"W1\"]\n",
    "    B1=parameters[\"B1\"]\n",
    "    W2=parameters[\"W2\"]\n",
    "    B2=parameters[\"B2\"]\n",
    "    W3=parameters[\"W3\"]\n",
    "    B3=parameters[\"B3\"]\n",
    "    \n",
    "    \n",
    "    for e in range(1,num_epochs+1):\n",
    "        epochCost=0\n",
    "        accuracy.reset_states()\n",
    "        \n",
    "        for (mini_X,mini_Y) in minibatches:\n",
    "            with tf.GradientTape() as t:\n",
    "                linearOutput=forward_propagation(tf.transpose(mini_X),parameters)\n",
    "                \n",
    "                mini_loss=losses(tf.transpose(linearOutput),mini_Y)\n",
    "            accuracy.update_state(mini_Y,tf.transpose(linearOutput))\n",
    "            \n",
    "            training_parameters=[W1,B1,W2,B2,W3,B3]\n",
    "            gradients=t.gradient(mini_loss,training_parameters)\n",
    "            optimizing_algo.apply_gradients(zip(gradients,training_parameters))\n",
    "            \n",
    "            epochCost+=mini_loss\n",
    "        epochCost/=m\n",
    "        \n",
    "        if print_cost==True and e%10==0:   \n",
    "            print(\"Cost after epoch\",e,\"-\",epochCost)\n",
    "            print(\"Training accuracy - \",accuracy.result())\n",
    "            \n",
    "            costs.append(epochCost)\n",
    "            training_accuracies.append(accuracy.result())\n",
    "    return parameters,costs,training_accuracies"
   ]
  },
  {
   "cell_type": "code",
   "execution_count": 93,
   "metadata": {},
   "outputs": [],
   "source": [
    "\n",
    "#main\n",
    "train_set=pd.read_csv(\"train.csv\")\n",
    "test_set=pd.read_csv(\"test.csv\")"
   ]
  },
  {
   "cell_type": "code",
   "execution_count": 94,
   "metadata": {},
   "outputs": [],
   "source": [
    "x_train=tf.data.Dataset.from_tensor_slices(train_set.drop('label',axis=1))\n",
    "y_train=tf.data.Dataset.from_tensor_slices(train_set['label'])"
   ]
  },
  {
   "cell_type": "code",
   "execution_count": 99,
   "metadata": {},
   "outputs": [],
   "source": [
    "x_new_train=x_train.map(normalize)"
   ]
  },
  {
   "cell_type": "code",
   "execution_count": 100,
   "metadata": {},
   "outputs": [],
   "source": [
    "y_new_train=y_train.map(convert_to_one_hot)"
   ]
  },
  {
   "cell_type": "code",
   "execution_count": 122,
   "metadata": {},
   "outputs": [
    {
     "name": "stdout",
     "output_type": "stream",
     "text": [
      "Cost after epoch 10 - tf.Tensor(0.44034058, shape=(), dtype=float32)\n",
      "Training accuracy -  tf.Tensor(0.059261903, shape=(), dtype=float32)\n",
      "Cost after epoch 20 - tf.Tensor(0.43355998, shape=(), dtype=float32)\n",
      "Training accuracy -  tf.Tensor(0.06107143, shape=(), dtype=float32)\n",
      "Cost after epoch 30 - tf.Tensor(0.42501026, shape=(), dtype=float32)\n",
      "Training accuracy -  tf.Tensor(0.06397619, shape=(), dtype=float32)\n",
      "Cost after epoch 40 - tf.Tensor(0.41755688, shape=(), dtype=float32)\n",
      "Training accuracy -  tf.Tensor(0.06607143, shape=(), dtype=float32)\n",
      "Cost after epoch 50 - tf.Tensor(0.40756288, shape=(), dtype=float32)\n",
      "Training accuracy -  tf.Tensor(0.06945238, shape=(), dtype=float32)\n",
      "Cost after epoch 60 - tf.Tensor(0.3984984, shape=(), dtype=float32)\n",
      "Training accuracy -  tf.Tensor(0.07252381, shape=(), dtype=float32)\n",
      "Cost after epoch 70 - tf.Tensor(0.38926408, shape=(), dtype=float32)\n",
      "Training accuracy -  tf.Tensor(0.07669047, shape=(), dtype=float32)\n",
      "Cost after epoch 80 - tf.Tensor(0.38155147, shape=(), dtype=float32)\n",
      "Training accuracy -  tf.Tensor(0.080880955, shape=(), dtype=float32)\n",
      "Cost after epoch 90 - tf.Tensor(0.37341416, shape=(), dtype=float32)\n",
      "Training accuracy -  tf.Tensor(0.08454762, shape=(), dtype=float32)\n",
      "Cost after epoch 100 - tf.Tensor(0.36627614, shape=(), dtype=float32)\n",
      "Training accuracy -  tf.Tensor(0.08911905, shape=(), dtype=float32)\n",
      "Cost after epoch 110 - tf.Tensor(0.35701898, shape=(), dtype=float32)\n",
      "Training accuracy -  tf.Tensor(0.0945, shape=(), dtype=float32)\n",
      "Cost after epoch 120 - tf.Tensor(0.3518579, shape=(), dtype=float32)\n",
      "Training accuracy -  tf.Tensor(0.098404765, shape=(), dtype=float32)\n",
      "Cost after epoch 130 - tf.Tensor(0.34220645, shape=(), dtype=float32)\n",
      "Training accuracy -  tf.Tensor(0.1035, shape=(), dtype=float32)\n",
      "Cost after epoch 140 - tf.Tensor(0.33643255, shape=(), dtype=float32)\n",
      "Training accuracy -  tf.Tensor(0.10933334, shape=(), dtype=float32)\n",
      "Cost after epoch 150 - tf.Tensor(0.32922804, shape=(), dtype=float32)\n",
      "Training accuracy -  tf.Tensor(0.11497619, shape=(), dtype=float32)\n"
     ]
    }
   ],
   "source": [
    "p,c,a=model(x_new_train,y_new_train)"
   ]
  },
  {
   "cell_type": "code",
   "execution_count": 123,
   "metadata": {},
   "outputs": [
    {
     "data": {
      "text/plain": [
       "[<matplotlib.lines.Line2D at 0x19d29e29f30>]"
      ]
     },
     "execution_count": 123,
     "metadata": {},
     "output_type": "execute_result"
    },
    {
     "data": {
      "image/png": "[encoded data removed]",
      "text/plain": [
       "<Figure size 432x288 with 1 Axes>"
      ]
     },
     "metadata": {
      "needs_background": "light"
     },
     "output_type": "display_data"
    }
   ],
   "source": [
    "costs=np.array(c)\n",
    "accuracy=np.array(a)\n",
    "\n",
    "iter=np.arange(0,150,10)\n",
    "\n",
    "plt.plot(iter,costs)\n"
   ]
  },
  {
   "cell_type": "code",
   "execution_count": 124,
   "metadata": {},
   "outputs": [
    {
     "data": {
      "text/plain": [
       "[<matplotlib.lines.Line2D at 0x19d29e39c00>]"
      ]
     },
     "execution_count": 124,
     "metadata": {},
     "output_type": "execute_result"
    },
    {
     "data": {
      "image/png": "[encoded data removed]",
      "text/plain": [
       "<Figure size 432x288 with 1 Axes>"
      ]
     },
     "metadata": {
      "needs_background": "light"
     },
     "output_type": "display_data"
    }
   ],
   "source": [
    "plt.plot(iter,accuracy)"
   ]
  },
  {
   "cell_type": "code",
   "execution_count": null,
   "metadata": {},
   "outputs": [],
   "source": []
  }
 ],
 "metadata": {
  "interpreter": {
   "hash": "bdcbd0957c7e38b476a98f409a2bce87bd2b42978fec1f4d5cc479dd30fc8004"
  },
  "kernelspec": {
   "display_name": "Python 3.10.2 64-bit",
   "language": "python",
   "name": "python3"
  },
  "language_info": {
   "codemirror_mode": {
    "name": "ipython",
    "version": 3
   },
   "file_extension": ".py",
   "mimetype": "text/x-python",
   "name": "python",
   "nbconvert_exporter": "python",
   "pygments_lexer": "ipython3",
   "version": "3.10.2"
  },
  "orig_nbformat": 4
 },
 "nbformat": 4,
 "nbformat_minor": 2
}
